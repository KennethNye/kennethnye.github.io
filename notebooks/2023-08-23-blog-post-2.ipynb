{
 "cells": [
  {
   "cell_type": "code",
   "execution_count": 1,
   "metadata": {},
   "outputs": [],
   "source": [
    "import numpy as np\n",
    "def four_state_simulation(position, alpha, beta, parameters, frame_rate, T):\n",
    "    \"\"\"Blinks simulation for a single fluorophore following four state four parameter (4P4S) model\n",
    "    \n",
    "    parameters\n",
    "    ----------\n",
    "    position: 2D coordinates [x,y] \n",
    "    alpha, beta: parameters for gamma distribution, which models the uncertainty\n",
    "    parameters: the 4 parameters for the four state model, namely, \n",
    "        the intial turn-on rate, the turn-off rate, the subsequent turn-on rate and the bleach rate [k_i, k_d, k_a, k_b]  \n",
    "    frame_rate: number of frames per unit time\n",
    "    T: total time of acquisition\n",
    "    \n",
    "    returns\n",
    "    -------\n",
    "    numpy array with first column recording the frame number, \n",
    "    the second and third column the x, y position of the blink event, \n",
    "    and the fourth colum the uncertainty.\n",
    "    \"\"\"\n",
    "\n",
    "    states = []\n",
    "    times = []\n",
    "    current_state = 'i'\n",
    "    t = 0\n",
    "    states.append(current_state)\n",
    "    times.append(t)\n",
    "    \n",
    "    \n",
    "    while t < T:\n",
    "        if current_state == 'i':\n",
    "            t_i = np.random.exponential(1/parameters[0])\n",
    "            t = t + t_i\n",
    "            current_state = 'a'\n",
    "         \n",
    "            \n",
    "        elif current_state == 'a':\n",
    "            t_a = np.random.exponential(1/(parameters[1] + parameters[3]))\n",
    "            t = t + t_a\n",
    "            p = np.random.uniform(0,1)\n",
    "            if p < parameters[1] / (parameters[1] + parameters[3]):  \n",
    "                current_state = 'd'         \n",
    "            else:\n",
    "                current_state = 'b' \n",
    "                      \n",
    "                \n",
    "        elif current_state == 'd':\n",
    "            t_d = np.random.exponential(1/parameters[2])\n",
    "            t = t + t_d\n",
    "            current_state = 'a'\n",
    "            \n",
    "        \n",
    "        elif current_state == 'b':\n",
    "            t = T\n",
    "            current_state = 'b'\n",
    "        states.append(current_state)\n",
    "        times.append(t)\n",
    "    F = [] \n",
    "    dt = 1/frame_rate\n",
    "    maxframe = int(T/dt)\n",
    "    N = len(states)\n",
    "    n = 1\n",
    "    m = 1\n",
    "    t = 0\n",
    "\n",
    "    while m <= maxframe and n < N:\n",
    "        \n",
    "        if m*dt < times[n]:\n",
    "            if states[n-1] == 'a':\n",
    "                F.append([m, np.random.normal(position[0], 0.02), np.random.normal(position[1], 0.02), np.random.gamma(alpha,beta)])\n",
    "            m = m + 1\n",
    "        else:\n",
    "            n = n + 1\n",
    "    return np.array(F)"
   ]
  },
  {
   "cell_type": "code",
   "execution_count": 2,
   "metadata": {},
   "outputs": [],
   "source": [
    "import numpy as np\n",
    "import scipy.stats\n",
    "import matplotlib.pyplot as plt\n",
    " \n",
    "#Simulation window parameters\n",
    "def ppp(xMin, xMax, yMin, yMax, lambda0):\n",
    "    '''This function is to generate random points in a rectangular region accoring to Poisson point process\n",
    "    parameters\n",
    "    ----------\n",
    "    xMin: the lower limit of x axis\n",
    "    xMax: the upper limit of x axis\n",
    "    yMin: the lower limit of y axis\n",
    "    yMax: the upper limit of y axis\n",
    "    lambda0: expected number of points per unit area\n",
    "    \n",
    "    returns\n",
    "    -------\n",
    "    numpy array with two columns where the first column is the x-coordinate and the second column is the y-coordinate\n",
    "\n",
    "    '''\n",
    "\n",
    "    xDelta=xMax-xMin\n",
    "    yDelta=yMax-yMin #rectangle dimensions\n",
    "    areaTotal=xDelta*yDelta\n",
    "    \n",
    "    #Point process parameters\n",
    "    #intensity (ie mean density) of the Poisson process\n",
    "    \n",
    "    #Simulate Poisson point process\n",
    "    numbPoints = scipy.stats.poisson( lambda0*areaTotal ).rvs()#Poisson number of points\n",
    "    xx = xDelta*scipy.stats.uniform.rvs(0,1,(numbPoints,1))+xMin#x coordinates of Poisson points\n",
    "    yy = yDelta*scipy.stats.uniform.rvs(0,1,(numbPoints,1))+yMin#y coordinates of Poisson points\n",
    "    #Plotting\n",
    "    # plt.scatter(xx,yy, edgecolor='b', facecolor='none', alpha=0.5 )\n",
    "    # plt.xlabel(\"x\"); plt.ylabel(\"y\")\n",
    "    return np.c_[xx,yy]"
   ]
  },
  {
   "cell_type": "code",
   "execution_count": 3,
   "metadata": {},
   "outputs": [],
   "source": [
    "import numpy as np\n",
    "def blinkpr(m, dt, k_i, k_off, k_on, k_pb):\n",
    "    '''The function calcuates the probablity that a single fluorophore is in \"turn-on\" state in the m-th frame\n",
    "\n",
    "    parameter\n",
    "    ---------\n",
    "    m: the frame ID\n",
    "    dt: frame duration or the time interval between two consecutive frames\n",
    "    k_i, k_on, k_off, k_pb: the 4 parameters for the four state model, namely, \n",
    "        the intial turn-on rate, the turn-off rate, the subsequent turn-on rate and the bleach rate [k_i, k_d, k_a, k_b] \n",
    "    \n",
    "    return\n",
    "    ------\n",
    "    float number representing the probablity that a single fluorophore is in \"turn-on\" state in the m-th frame\n",
    "    '''\n",
    "\n",
    "    if m == 0:\n",
    "        return 0\n",
    "    else:\n",
    "        sum = -(k_off + k_on + k_pb)\n",
    "        product = k_on*k_pb\n",
    "        lambda_plus = 0.5*(sum-(sum**2-4*product)**0.5)\n",
    "        lambda_minus =  sum - lambda_plus\n",
    "\n",
    "        A = 1/(-k_off-k_pb+k_i+k_on*k_off/(k_on-k_i))\n",
    "        # B = A*(k_i*k_off/(k_on-k_i)+k_i-k_pb)\n",
    "        C = A*(k_i*k_off/(-k_on+k_i)-k_i-lambda_plus*k_i/k_on)/(lambda_minus/k_on-lambda_plus/k_on)\n",
    "        D = k_i*A - C\n",
    "\n",
    "        p_on = -A*k_i*np.exp(-k_i*(m-1)*dt) + C*np.exp(lambda_plus*(m-1)*dt) + D*np.exp(lambda_minus*(m-1)*dt)\n",
    "        p_off = A*k_i*k_off/(-k_on+k_i)*np.exp(-k_i*(m-1)*dt) + C*(-lambda_minus/k_on-1)*np.exp(lambda_plus*(m-1)*dt) + D*(-lambda_plus/k_on-1)*np.exp(lambda_minus*(m-1)*dt)\n",
    "        p_0 = A*(-k_off-k_pb+k_i+k_on*k_off/(k_on-k_i))*np.exp(-k_i*(m-1)*dt)\n",
    "        \n",
    "        return p_on + p_off*(1-np.exp(-k_on*dt))+p_0*(1-np.exp(-k_i*dt))\n",
    "\n"
   ]
  },
  {
   "cell_type": "code",
   "execution_count": 4,
   "metadata": {},
   "outputs": [],
   "source": [
    "def lambda_n(n, dt, k_i, k_off, k_on, k_pb):\n",
    "    ''' This function calculates the sum of the probablity of a single fluorophore in \"turn-on\" states up to the n-th frame, denoted by lambda_n.\n",
    "        parameter\n",
    "        ---------\n",
    "        n: total number of frames\n",
    "        dt: frame duration or the time interval between two consecutive frames\n",
    "        k_i, k_on, k_off, k_pb: the 4 parameters for the four state model, namely, \n",
    "            the intial turn-on rate, the turn-off rate, the subsequent turn-on rate and the bleach rate [k_i, k_d, k_a, k_b] \n",
    "        \n",
    "        return\n",
    "        ------\n",
    "        float number: lambda_n    \n",
    "    '''\n",
    "    \n",
    "    if n == 0:\n",
    "        return 0\n",
    "    else:\n",
    "        return sum([blinkpr(i + 1, dt, k_i, k_off, k_on, k_pb) for i in range(n)])"
   ]
  },
  {
   "cell_type": "code",
   "execution_count": 49,
   "metadata": {},
   "outputs": [
    {
     "data": {
      "image/png": "[encoded data removed]",
      "text/plain": [
       "<Figure size 432x288 with 1 Axes>"
      ]
     },
     "metadata": {
      "needs_background": "light"
     },
     "output_type": "display_data"
    }
   ],
   "source": [
    "import numpy as np\n",
    "import scipy.stats\n",
    "import matplotlib.pyplot as plt\n",
    "import math\n",
    "\n",
    "# initialize parameters\n",
    "\n",
    "k_i = 15\n",
    "k_off = 5\n",
    "k_on = 1\n",
    "k_pb = 3\n",
    "\n",
    "parameters = np.array([k_i, k_off, k_on, k_pb])\n",
    "\n",
    "framerate = 100\n",
    "T = 100\n",
    "\n",
    "N = 10\n",
    "points = ppp(0,5,0,5,N)\n",
    "blinks = np.empty((0,7))\n",
    "sblink = np.zeros((points.shape[0],), dtype = int)\n",
    "\n",
    "for i, point in enumerate(points):\n",
    "    S = four_state_simulation(point, 2, 0.025, parameters, framerate, T)\n",
    "    sblink = np.append(sblink,S.shape[0])\n",
    "    if len(S) != 0:\n",
    "        cols = np.empty((S.shape[0],3))\n",
    "        for j in range(S.shape[0]):\n",
    "            cols[j][0:2] = point[0], point[1]\n",
    "            cols[j][2] = i\n",
    "        blinks = np.r_[blinks,np.append(S,cols,1)]\n",
    "\n",
    "\n",
    "blinksframes = np.array(blinks[:,0],dtype = int)\n",
    "count = np.bincount(blinksframes)\n",
    "prob = len(points)*np.array([blinkpr(i, 1/framerate, k_i, k_off, k_on, k_pb) for i in range(max(blinksframes) + 1)])\n",
    "\n",
    "plt.scatter(range(max(blinksframes) + 1),count)\n",
    "plt.plot(range(max(blinksframes) + 1), prob)\n",
    "plt.xlabel('Frame ID')\n",
    "plt.ylabel('Number of Blinks')\n",
    "plt.title('No. of Blinks in Each Frame')\n",
    "\n",
    "blinksinframes = np.c_[range(max(blinksframes) + 1), count]\n",
    "# print(blinksinframes)"
   ]
  },
  {
   "cell_type": "code",
   "execution_count": 44,
   "metadata": {},
   "outputs": [],
   "source": [
    "from scipy.stats import poisson\n",
    "import numpy as np\n",
    "L = lambda_n(max(blinksframes) + 1, 0.2, k_i, k_off, k_on, k_pb)\n",
    "poisson_exp = len(points)*np.array([poisson.pmf(i, L) for i in range(max(sblink) + 1)])\n"
   ]
  },
  {
   "cell_type": "code",
   "execution_count": 47,
   "metadata": {},
   "outputs": [
    {
     "data": {
      "text/plain": [
       "\"\\nn, bins, patches = plt.hist(x = blinks, bins = range(50), color='#0504aa',\\n                            alpha=0.7, rwidth=0.85)\\nplt.grid(axis='y', alpha=0.75)\\nplt.xlabel('Number of Blinks')\\nplt.ylabel('Frequencies')\\nplt.title('Histogram of no. of blinks on 1st frame')\\nplt.text(25, 45, 'Number of simulations = 1000')\\nmaxfreq = n.max()\\n# Set a clean upper y-axis limit.\\nplt.ylim(ymax=np.ceil(maxfreq / 10) * 10 if maxfreq % 10 else maxfreq + 10)\\n\\nr_i_est = - math.log(1 - sum(blinks)/(1000*N))*framerate\\nprint(r_i_est)\\n\""
      ]
     },
     "execution_count": 47,
     "metadata": {},
     "output_type": "execute_result"
    },
    {
     "data": {
      "image/png": "[encoded data removed]",
      "text/plain": [
       "<Figure size 432x288 with 1 Axes>"
      ]
     },
     "metadata": {
      "needs_background": "light"
     },
     "output_type": "display_data"
    }
   ],
   "source": [
    "count = np.bincount(sblink)\n",
    "# print(len(count))\n",
    "# print(count)\n",
    "\n",
    "plt.scatter(range(max(sblink) + 1),count)\n",
    "plt.plot(range(max(sblink) + 1), poisson_exp)\n",
    "plt.xlabel('Number of Blinks')\n",
    "plt.ylabel('Number of Fluorophore')\n",
    "plt.title('No. of Blinks for Each Fluorophore')\n",
    "\n",
    "# blinksinframes = np.c_[range(max(blinksframes) + 1), count]\n",
    "# print(blinksinframes)\n",
    "'''\n",
    "n, bins, patches = plt.hist(x = blinks, bins = range(50), color='#0504aa',\n",
    "                            alpha=0.7, rwidth=0.85)\n",
    "plt.grid(axis='y', alpha=0.75)\n",
    "plt.xlabel('Number of Blinks')\n",
    "plt.ylabel('Frequencies')\n",
    "plt.title('Histogram of no. of blinks on 1st frame')\n",
    "plt.text(25, 45, 'Number of simulations = 1000')\n",
    "maxfreq = n.max()\n",
    "# Set a clean upper y-axis limit.\n",
    "plt.ylim(ymax=np.ceil(maxfreq / 10) * 10 if maxfreq % 10 else maxfreq + 10)\n",
    "\n",
    "r_i_est = - math.log(1 - sum(blinks)/(1000*N))*framerate\n",
    "print(r_i_est)\n",
    "'''\n"
   ]
  },
  {
   "cell_type": "code",
   "execution_count": 46,
   "metadata": {},
   "outputs": [],
   "source": [
    "import csv\n",
    "\n",
    "def outputcsv(data):\n",
    "    '''This function writes the simultion data into a csv file\n",
    "    parameters\n",
    "    ----------\n",
    "    data: numpy array with 4 columns: 'frame', 'x', 'y', 'uncertainty_xy_nm'\n",
    "    \n",
    "    returns\n",
    "    -------\n",
    "    a csv file located at C:\\\\Users\\e0293820\\Documents\\simulations.csv\n",
    "    '''\n",
    "    header = ['frame', 'x', 'y', 'uncertainty_xy_nm']\n",
    "\n",
    "    with open('C:\\\\Users\\e0293820\\Documents\\simulations.csv', 'w', encoding = 'UTF8', newline = '') as f:\n",
    "        writer = csv.writer(f)\n",
    "\n",
    "        # write the header\n",
    "        writer.writerow(header)\n",
    "\n",
    "        # write the data\n",
    "        writer.writerows(data)"
   ]
  },
  {
   "cell_type": "code",
   "execution_count": 47,
   "metadata": {},
   "outputs": [
    {
     "data": {
      "image/png": "[encoded data removed]",
      "text/plain": [
       "<Figure size 432x288 with 1 Axes>"
      ]
     },
     "metadata": {
      "needs_background": "light"
     },
     "output_type": "display_data"
    }
   ],
   "source": [
    "plt.scatter(points[:,0], points[:,1], marker = 'x', facecolor='b', alpha=1 )\n",
    "plt.scatter(np.array(blinks)[:,1], np.array(blinks)[:,2], edgecolor = 'r', facecolor = 'none', alpha = 0.1)\n",
    "plt.xlabel(\"x\"); plt.ylabel(\"y\")\n",
    "\n",
    "outputcsv(blinks)"
   ]
  },
  {
   "cell_type": "code",
   "execution_count": 48,
   "metadata": {},
   "outputs": [
    {
     "name": "stdout",
     "output_type": "stream",
     "text": [
      "Estimated number of clusters: 73\n",
      "Estimated number of noise points: 48\n"
     ]
    },
    {
     "data": {
      "text/plain": [
       "(array([29., 18., 15.,  4.,  3.,  1.,  0.,  0.,  1.,  0.,  1.,  0.,  1.]),\n",
       " array([ 2.        ,  2.84615385,  3.69230769,  4.53846154,  5.38461538,\n",
       "         6.23076923,  7.07692308,  7.92307692,  8.76923077,  9.61538462,\n",
       "        10.46153846, 11.30769231, 12.15384615, 13.        ]),\n",
       " <BarContainer object of 13 artists>)"
      ]
     },
     "execution_count": 48,
     "metadata": {},
     "output_type": "execute_result"
    },
    {
     "data": {
      "image/png": "[encoded data removed]",
      "text/plain": [
       "<Figure size 432x288 with 1 Axes>"
      ]
     },
     "metadata": {
      "needs_background": "light"
     },
     "output_type": "display_data"
    }
   ],
   "source": [
    "# DBSCAN\n",
    "\n",
    "from sklearn.cluster import DBSCAN\n",
    "\n",
    "def dbscanclustering(coordinates):\n",
    "    clustering = DBSCAN(eps=0.09, min_samples=2).fit(coordinates)\n",
    "    labels = clustering.labels_\n",
    "    # Number of clusters in labels, ignoring noise if present.\n",
    "    n_clusters_ = len(set(labels)) - (1 if -1 in labels else 0)\n",
    "    n_noise_ = list(labels).count(-1)\n",
    "\n",
    "    print(\"Estimated number of clusters: %d\" % n_clusters_)\n",
    "    print(\"Estimated number of noise points: %d\" % n_noise_)\n",
    "    return clustering\n",
    "\n",
    "\n",
    "coordinates = np.array(blinks[:,1:3])\n",
    "clustering = dbscanclustering(coordinates)\n",
    "label = list(filter(lambda x: (x != -1), clustering.labels_))\n",
    "\n",
    "cluster_size = np.bincount(label)\n",
    "plt.hist(cluster_size, bins=max(cluster_size))"
   ]
  },
  {
   "cell_type": "code",
   "execution_count": null,
   "metadata": {},
   "outputs": [],
   "source": [
    "import seaborn as sns\n",
    "fig2, (axes) = plt.subplots(1,2,figsize=(12,5))\n",
    "\n",
    "sns.scatterplot('x', 'y',\n",
    "\n",
    "                data=DBSCAN_dataset[DBSCAN_dataset['Cluster']!=-1],\n",
    "\n",
    "                hue='Cluster', ax=axes[0], palette='Set2', legend='full', s=200)"
   ]
  }
 ],
 "metadata": {
  "kernelspec": {
   "display_name": "Python 3.9.7 ('base')",
   "language": "python",
   "name": "python3"
  },
  "language_info": {
   "codemirror_mode": {
    "name": "ipython",
    "version": 3
   },
   "file_extension": ".py",
   "mimetype": "text/x-python",
   "name": "python",
   "nbconvert_exporter": "python",
   "pygments_lexer": "ipython3",
   "version": "3.9.7"
  },
  "orig_nbformat": 4,
  "vscode": {
   "interpreter": {
    "hash": "ad2bdc8ecc057115af97d19610ffacc2b4e99fae6737bb82f5d7fb13d2f2c186"
   }
  }
 },
 "nbformat": 4,
 "nbformat_minor": 2
}
